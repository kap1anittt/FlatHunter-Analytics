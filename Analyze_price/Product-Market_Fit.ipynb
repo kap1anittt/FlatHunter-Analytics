{
 "cells": [
  {
   "cell_type": "markdown",
   "id": "1a2e79d8",
   "metadata": {},
   "source": [
    "# Анализ спроса и предложения (Product-Market Fit)"
   ]
  },
  {
   "cell_type": "markdown",
   "id": "bb7375e7",
   "metadata": {},
   "source": [
    "### Гипотезы:\n",
    "\n",
    "- В каких районах больше всего предложений? Возможно, там переизбыток.\n",
    "\n",
    "- Где мало предложений, но высокая цена? Возможно, дефицит.\n",
    "\n",
    "### Метрики:\n",
    "\n",
    "- Inventory Rate: (число объявлений) / (популяция района).\n",
    "\n",
    "- Days on Market: как быстро продаются квартиры."
   ]
  }
 ],
 "metadata": {
  "language_info": {
   "name": "python"
  }
 },
 "nbformat": 4,
 "nbformat_minor": 5
}
