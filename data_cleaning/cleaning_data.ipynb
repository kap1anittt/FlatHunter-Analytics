{
 "cells": [
  {
   "cell_type": "markdown",
   "id": "e376a42b",
   "metadata": {},
   "source": [
    "# EDA"
   ]
  },
  {
   "cell_type": "markdown",
   "id": "69907c8e",
   "metadata": {},
   "source": [
    "## Загрузка данных"
   ]
  },
  {
   "cell_type": "code",
   "execution_count": 2,
   "id": "7d2d6ef6",
   "metadata": {},
   "outputs": [
    {
     "data": {
      "text/html": [
       "<div>\n",
       "<style scoped>\n",
       "    .dataframe tbody tr th:only-of-type {\n",
       "        vertical-align: middle;\n",
       "    }\n",
       "\n",
       "    .dataframe tbody tr th {\n",
       "        vertical-align: top;\n",
       "    }\n",
       "\n",
       "    .dataframe thead th {\n",
       "        text-align: right;\n",
       "    }\n",
       "</style>\n",
       "<table border=\"1\" class=\"dataframe\">\n",
       "  <thead>\n",
       "    <tr style=\"text-align: right;\">\n",
       "      <th></th>\n",
       "      <th>author</th>\n",
       "      <th>author_type</th>\n",
       "      <th>agent_name</th>\n",
       "      <th>url</th>\n",
       "      <th>location</th>\n",
       "      <th>deal_type</th>\n",
       "      <th>accommodation_type</th>\n",
       "      <th>price</th>\n",
       "      <th>year_of_construction</th>\n",
       "      <th>house_material_type</th>\n",
       "      <th>...</th>\n",
       "      <th>sewage_system</th>\n",
       "      <th>bathroom</th>\n",
       "      <th>living_meters</th>\n",
       "      <th>floors_count</th>\n",
       "      <th>phone</th>\n",
       "      <th>district</th>\n",
       "      <th>underground</th>\n",
       "      <th>street</th>\n",
       "      <th>house_number</th>\n",
       "      <th>creation_date</th>\n",
       "    </tr>\n",
       "  </thead>\n",
       "  <tbody>\n",
       "    <tr>\n",
       "      <th>0</th>\n",
       "      <td>NaN</td>\n",
       "      <td>realtor_based</td>\n",
       "      <td>NaN</td>\n",
       "      <td>https://www.cian.ru/rent/flat/319524074/</td>\n",
       "      <td>Москва</td>\n",
       "      <td>rent_long</td>\n",
       "      <td>flat</td>\n",
       "      <td>290300.0</td>\n",
       "      <td>NaN</td>\n",
       "      <td>monolithBrick</td>\n",
       "      <td>...</td>\n",
       "      <td>NaN</td>\n",
       "      <td>NaN</td>\n",
       "      <td>60.1</td>\n",
       "      <td>28</td>\n",
       "      <td>NaN</td>\n",
       "      <td>NaN</td>\n",
       "      <td>Багратионовская, Парк Победы, Филёвский парк</td>\n",
       "      <td>NaN</td>\n",
       "      <td>NaN</td>\n",
       "      <td>2025-07-08</td>\n",
       "    </tr>\n",
       "    <tr>\n",
       "      <th>1</th>\n",
       "      <td>NaN</td>\n",
       "      <td>realtor_based</td>\n",
       "      <td>NaN</td>\n",
       "      <td>https://www.cian.ru/rent/flat/313850443/</td>\n",
       "      <td>Москва</td>\n",
       "      <td>rent_long</td>\n",
       "      <td>flat</td>\n",
       "      <td>200600.0</td>\n",
       "      <td>2005.0</td>\n",
       "      <td>panel</td>\n",
       "      <td>...</td>\n",
       "      <td>NaN</td>\n",
       "      <td>NaN</td>\n",
       "      <td>53.3</td>\n",
       "      <td>22</td>\n",
       "      <td>NaN</td>\n",
       "      <td>NaN</td>\n",
       "      <td>Поклонная, Ломоносовский проспект, Киевская</td>\n",
       "      <td>NaN</td>\n",
       "      <td>NaN</td>\n",
       "      <td>2025-02-18</td>\n",
       "    </tr>\n",
       "  </tbody>\n",
       "</table>\n",
       "<p>2 rows × 23 columns</p>\n",
       "</div>"
      ],
      "text/plain": [
       "   author    author_type  agent_name  \\\n",
       "0     NaN  realtor_based         NaN   \n",
       "1     NaN  realtor_based         NaN   \n",
       "\n",
       "                                        url location  deal_type  \\\n",
       "0  https://www.cian.ru/rent/flat/319524074/   Москва  rent_long   \n",
       "1  https://www.cian.ru/rent/flat/313850443/   Москва  rent_long   \n",
       "\n",
       "  accommodation_type     price  year_of_construction house_material_type  ...  \\\n",
       "0               flat  290300.0                   NaN       monolithBrick  ...   \n",
       "1               flat  200600.0                2005.0               panel  ...   \n",
       "\n",
       "   sewage_system  bathroom  living_meters  floors_count  phone  district  \\\n",
       "0            NaN       NaN           60.1            28    NaN       NaN   \n",
       "1            NaN       NaN           53.3            22    NaN       NaN   \n",
       "\n",
       "                                    underground  street  house_number  \\\n",
       "0  Багратионовская, Парк Победы, Филёвский парк     NaN           NaN   \n",
       "1   Поклонная, Ломоносовский проспект, Киевская     NaN           NaN   \n",
       "\n",
       "  creation_date  \n",
       "0    2025-07-08  \n",
       "1    2025-02-18  \n",
       "\n",
       "[2 rows x 23 columns]"
      ]
     },
     "execution_count": 2,
     "metadata": {},
     "output_type": "execute_result"
    }
   ],
   "source": [
    "import pandas as pd\n",
    "import numpy as np\n",
    "\n",
    "# Загрузка данных\n",
    "df = pd.read_csv('cian_rent.csv', low_memory=False)\n",
    "df.head(2)"
   ]
  },
  {
   "cell_type": "markdown",
   "id": "14c01576",
   "metadata": {},
   "source": [
    "## Обработка пропущенных значений"
   ]
  },
  {
   "cell_type": "code",
   "execution_count": 3,
   "id": "36723171",
   "metadata": {},
   "outputs": [
    {
     "data": {
      "text/html": [
       "<div>\n",
       "<style scoped>\n",
       "    .dataframe tbody tr th:only-of-type {\n",
       "        vertical-align: middle;\n",
       "    }\n",
       "\n",
       "    .dataframe tbody tr th {\n",
       "        vertical-align: top;\n",
       "    }\n",
       "\n",
       "    .dataframe thead th {\n",
       "        text-align: right;\n",
       "    }\n",
       "</style>\n",
       "<table border=\"1\" class=\"dataframe\">\n",
       "  <thead>\n",
       "    <tr style=\"text-align: right;\">\n",
       "      <th></th>\n",
       "      <th>author_type</th>\n",
       "      <th>url</th>\n",
       "      <th>location</th>\n",
       "      <th>deal_type</th>\n",
       "      <th>accommodation_type</th>\n",
       "      <th>price</th>\n",
       "      <th>year_of_construction</th>\n",
       "      <th>house_material_type</th>\n",
       "      <th>living_meters</th>\n",
       "      <th>floors_count</th>\n",
       "      <th>underground</th>\n",
       "      <th>creation_date</th>\n",
       "    </tr>\n",
       "  </thead>\n",
       "  <tbody>\n",
       "    <tr>\n",
       "      <th>0</th>\n",
       "      <td>realtor_based</td>\n",
       "      <td>https://www.cian.ru/rent/flat/319524074/</td>\n",
       "      <td>Москва</td>\n",
       "      <td>rent_long</td>\n",
       "      <td>flat</td>\n",
       "      <td>290300.0</td>\n",
       "      <td>NaN</td>\n",
       "      <td>monolithBrick</td>\n",
       "      <td>60.1</td>\n",
       "      <td>28</td>\n",
       "      <td>Багратионовская, Парк Победы, Филёвский парк</td>\n",
       "      <td>2025-07-08</td>\n",
       "    </tr>\n",
       "    <tr>\n",
       "      <th>1</th>\n",
       "      <td>realtor_based</td>\n",
       "      <td>https://www.cian.ru/rent/flat/313850443/</td>\n",
       "      <td>Москва</td>\n",
       "      <td>rent_long</td>\n",
       "      <td>flat</td>\n",
       "      <td>200600.0</td>\n",
       "      <td>2005.0</td>\n",
       "      <td>panel</td>\n",
       "      <td>53.3</td>\n",
       "      <td>22</td>\n",
       "      <td>Поклонная, Ломоносовский проспект, Киевская</td>\n",
       "      <td>2025-02-18</td>\n",
       "    </tr>\n",
       "    <tr>\n",
       "      <th>2</th>\n",
       "      <td>realtor_based</td>\n",
       "      <td>https://www.cian.ru/rent/flat/317523322/</td>\n",
       "      <td>Москва</td>\n",
       "      <td>rent_long</td>\n",
       "      <td>flat</td>\n",
       "      <td>84300.0</td>\n",
       "      <td>1960.0</td>\n",
       "      <td>panel</td>\n",
       "      <td>25.0</td>\n",
       "      <td>5</td>\n",
       "      <td>Ломоносовский проспект, Минская, Минская</td>\n",
       "      <td>2025-05-14</td>\n",
       "    </tr>\n",
       "  </tbody>\n",
       "</table>\n",
       "</div>"
      ],
      "text/plain": [
       "     author_type                                       url location  \\\n",
       "0  realtor_based  https://www.cian.ru/rent/flat/319524074/   Москва   \n",
       "1  realtor_based  https://www.cian.ru/rent/flat/313850443/   Москва   \n",
       "2  realtor_based  https://www.cian.ru/rent/flat/317523322/   Москва   \n",
       "\n",
       "   deal_type accommodation_type     price  year_of_construction  \\\n",
       "0  rent_long               flat  290300.0                   NaN   \n",
       "1  rent_long               flat  200600.0                2005.0   \n",
       "2  rent_long               flat   84300.0                1960.0   \n",
       "\n",
       "  house_material_type  living_meters  floors_count  \\\n",
       "0       monolithBrick           60.1            28   \n",
       "1               panel           53.3            22   \n",
       "2               panel           25.0             5   \n",
       "\n",
       "                                    underground creation_date  \n",
       "0  Багратионовская, Парк Победы, Филёвский парк    2025-07-08  \n",
       "1   Поклонная, Ломоносовский проспект, Киевская    2025-02-18  \n",
       "2      Ломоносовский проспект, Минская, Минская    2025-05-14  "
      ]
     },
     "execution_count": 3,
     "metadata": {},
     "output_type": "execute_result"
    }
   ],
   "source": [
    "# Удаляем полностью пустые колонки\n",
    "df.dropna(axis=1, how='all', inplace=True)\n",
    "\n",
    "# Заполняем пропуски в числовых данных медианой\n",
    "numeric_cols = ['price', 'living_meters', 'floors_count']\n",
    "for col in numeric_cols:\n",
    "    if col in df.columns:\n",
    "        df[col] = df[col].fillna(df[col].median())\n",
    "\n",
    "# Категориальные колонки: заполняем \"unknown\" \n",
    "categorical_cols = ['house_material_type', 'heating_type', 'district']\n",
    "for col in categorical_cols:\n",
    "    if col in df.columns:\n",
    "        df[col] = df[col].fillna('unknown')\n",
    "      \n",
    "\n",
    "# Удаляем строки, где нет цены или площади\n",
    "df = df.dropna(subset=['price', 'living_meters'], how='any')\n",
    "\n",
    "df.head(3)"
   ]
  },
  {
   "cell_type": "markdown",
   "id": "15b97d4c",
   "metadata": {},
   "source": [
    "## Приведение типов данных"
   ]
  },
  {
   "cell_type": "code",
   "execution_count": null,
   "id": "169eade8",
   "metadata": {},
   "outputs": [],
   "source": [
    "# Преобразуем цену в число\n",
    "if 'price' in df.columns:\n",
    "    df['price'] = df['price'].astype(str).str.replace(' ', '').astype(float)\n",
    "\n",
    "# Дата создания объявления в datetime\n",
    "if 'creation_date' in df.columns:\n",
    "    df['creation_date'] = pd.to_datetime(df['creation_date'], errors='coerce')\n",
    "\n",
    "if 'floors_count' in df.columns:\n",
    "    df['floors_count'] = df['floors_count'].astype(int)"
   ]
  },
  {
   "cell_type": "code",
   "execution_count": 21,
   "id": "f3a1889e",
   "metadata": {},
   "outputs": [],
   "source": [
    "# Удаляем лишние пробелы и кавычки в адресах\n",
    "text_cols = ['district', 'street', 'house_number']\n",
    "for col in text_cols:\n",
    "    if col in df.columns:\n",
    "        df[col] = df[col].str.strip(' \"\\'')\n",
    "\n",
    "# Приводим названия районов к одному регистру (например, \"филёвский парк\" -> \"Филёвский парк\")\n",
    "if 'district' in df.columns:\n",
    "    df['district'] = df['district'].str.title()"
   ]
  },
  {
   "cell_type": "markdown",
   "id": "de1724ff",
   "metadata": {},
   "source": [
    "## Обработка аномалий"
   ]
  },
  {
   "cell_type": "code",
   "execution_count": null,
   "id": "26f2986e",
   "metadata": {},
   "outputs": [],
   "source": [
    "# Удаляем выбросы в цене (например, квартиры дешевле 20 тыс. или дороже 500 тыс.)\n",
    "if 'price' in df.columns:\n",
    "    df = df[(df['price'] > 20_000) & (df['price'] < 500_000)]\n",
    "\n",
    "# Проверяем метраж на аномалии (например, квартиры < 10 м² или > 5000 м²)\n",
    "if 'living_meters' in df.columns:\n",
    "    df = df[(df['living_meters'] > 10) & (df['living_meters'] < 500)]\n",
    "\n",
    "# Фиксим этажность: если этаж > floors_count, заменяем на floors_count\n",
    "if 'floor' in df.columns and 'floors_count' in df.columns:\n",
    "    df['floor'] = np.where(df['floor'] > df['floors_count'], df['floors_count'], df['floor'])"
   ]
  },
  {
   "cell_type": "markdown",
   "id": "738fea31",
   "metadata": {},
   "source": [
    "## Разделение сложных полей"
   ]
  },
  {
   "cell_type": "code",
   "execution_count": 28,
   "id": "5044a453",
   "metadata": {},
   "outputs": [],
   "source": [
    "if 'floor' in df.columns and 'floors_count' in df.columns:\n",
    "    df['floor'] = df['floor'].fillna(1)\n",
    "    \n",
    "    # Заменяем NaN в 'floors_count' на медианное значение\n",
    "    df['floors_count'] = df['floors_count'].fillna(df['floors_count'].median())\n",
    "    \n",
    "    # Преобразуем оба столбца в int\n",
    "    df['floor'] = df['floor'].astype(int)\n",
    "    df['floors_count'] = df['floors_count'].astype(int)\n",
    "    \n",
    "    # Исправляем этаж, если он превышает общее число этажей\n",
    "    df['floor'] = np.where(\n",
    "        df['floor'] > df['floors_count'],\n",
    "        df['floors_count'],\n",
    "        df['floor']\n",
    "    )"
   ]
  },
  {
   "cell_type": "markdown",
   "id": "7b3a766b",
   "metadata": {},
   "source": [
    "## Сохранение очищенных данных"
   ]
  },
  {
   "cell_type": "code",
   "execution_count": 29,
   "id": "ae17f605",
   "metadata": {},
   "outputs": [
    {
     "name": "stdout",
     "output_type": "stream",
     "text": [
      "Данные очищены и сохранены!\n"
     ]
    }
   ],
   "source": [
    "# Удаляем промежуточные колонки\n",
    "df = df.drop(columns=['underground_list'], errors='ignore')\n",
    "\n",
    "# Сохраняем в CSV\n",
    "df.to_csv('cleaned_data.csv', index=False)\n",
    "print(\"Данные очищены и сохранены!\")"
   ]
  }
 ],
 "metadata": {
  "kernelspec": {
   "display_name": "ml_course",
   "language": "python",
   "name": "python3"
  },
  "language_info": {
   "codemirror_mode": {
    "name": "ipython",
    "version": 3
   },
   "file_extension": ".py",
   "mimetype": "text/x-python",
   "name": "python",
   "nbconvert_exporter": "python",
   "pygments_lexer": "ipython3",
   "version": "3.9.22"
  }
 },
 "nbformat": 4,
 "nbformat_minor": 5
}
